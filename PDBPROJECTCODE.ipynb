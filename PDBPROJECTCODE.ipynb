{
 "cells": [
  {
   "cell_type": "markdown",
   "id": "c6d3b38d-ce92-40ff-90ad-44a7857708db",
   "metadata": {},
   "source": [
    "### Define the GraphQL query to fetch structural and publication data from RCSB PDB.\n",
    "The query requests information about specific Protein Data Bank (PDB) entries.\n",
    "It retrieves:\n",
    "- PubMed data (abstract text, central ID, and DOI)\n",
    "- PDB entry ID\n",
    "- Structural title and descriptor"
   ]
  },
  {
   "cell_type": "markdown",
   "id": "c7423a7b-805b-443c-bbd3-14ab9cfdb38d",
   "metadata": {},
   "source": [
    "#### Import requests and Define the GraphQL query"
   ]
  },
  {
   "cell_type": "code",
   "execution_count": 30,
   "id": "730bbf2e-7551-4a8d-b052-c15f297466b4",
   "metadata": {},
   "outputs": [],
   "source": [
    "import requests\n",
    "\n",
    "my_query = '''\n",
    "{\n",
    "  entries(entry_ids: [\"6GPB\", \"5GPB\", \"8GPB\", \"7GPB\"]) {\n",
    "    pubmed {\n",
    "      rcsb_pubmed_abstract_text\n",
    "      rcsb_pubmed_central_id\n",
    "      rcsb_pubmed_doi\n",
    "    }\n",
    "    rcsb_id\n",
    "    struct {\n",
    "      title\n",
    "      pdbx_descriptor\n",
    "    }\n",
    "  }\n",
    "}\n",
    "'''"
   ]
  },
  {
   "cell_type": "markdown",
   "id": "c4101b78-9d9e-4a34-967a-82af76bcf18b",
   "metadata": {},
   "source": [
    "#### Send a GET request to the RCSB PDB GraphQL API using the defined query.\n",
    "The request is URL-encoded to ensure proper formatting."
   ]
  },
  {
   "cell_type": "code",
   "execution_count": 31,
   "id": "79dddb40-38a8-4161-baa8-80afe3c3439b",
   "metadata": {},
   "outputs": [],
   "source": [
    "response = requests.get('https://data.rcsb.org/graphql?query=%s' % requests.utils.requote_uri(my_query))"
   ]
  },
  {
   "cell_type": "markdown",
   "id": "30397526-2707-4a5d-885d-a1edc0f33c51",
   "metadata": {},
   "source": [
    "#### Convert the API response from JSON format into a Python dictionary."
   ]
  },
  {
   "cell_type": "code",
   "execution_count": 32,
   "id": "5490ad0b-fa65-45c5-a71f-636fbace69b8",
   "metadata": {},
   "outputs": [
    {
     "data": {
      "text/plain": [
       "dict_keys(['data'])"
      ]
     },
     "execution_count": 32,
     "metadata": {},
     "output_type": "execute_result"
    }
   ],
   "source": [
    "response_json = response.json()\n",
    "response_json.keys()"
   ]
  },
  {
   "cell_type": "code",
   "execution_count": 82,
   "id": "1e680a20-3cf1-40f3-821c-05c2b0bc0aa2",
   "metadata": {},
   "outputs": [
    {
     "data": {
      "text/plain": [
       "{'entries': [{'pubmed': {'rcsb_pubmed_abstract_text': \"The crystal structure of phosphorylase b-heptulose 2-phosphate complex with oligosaccharide and AMP bound has been refined by molecular dynamics and crystallographic least-squares with the program XPLOR. Shifts in atomic positions of up to 4 A from the native enzyme structure were correctly determined by the program without manual intervention. The final crystallographic R value for data between 8 and 2.86 A resolution is 0.201, and the overall root-mean-square difference between the native and complexed structure is 0.58 A for all protein atoms. The results confirm the previous observation that there is a direct hydrogen bond between the phosphate of heptulose 2-phosphate and the pyridoxal phosphate 5'-phosphate group. The close proximity of the two phosphates is stabilized by an arginine residue, Arg569, which shifts from a site buried in the protein to a position where it can make contact with the product phosphate. There is a mutual interchange in position between the arginine and an acidic group, Asp283. These movements represent the first stage of the allosteric response which converts the catalytic site from a low to a high-affinity binding site. Communication of these changes to other sites is prevented in the crystal by the lattice forces, which also form the subunit interface. The constellation of groups in the phosphorylase transition state analogue complex provides a structural basis for understanding the catalytic mechanism in which the cofactor pyridoxal phosphate 5'-phosphate group functions as a general acid to promote attack by the substrate phosphate on the glycosidic bond when the reaction proceeds in the direction of glycogen degradation. In the direction of glycogen synthesis, stereoelectronic effects contribute to the cleavage of the C-1-O-1 bond. In both reactions the substrate phosphate plays a key role in transition state stabilization. The details of the oligosaccharide, maltoheptaose, interactions with the enzyme at the glycogen storage site are also described.\",\n",
       "    'rcsb_pubmed_central_id': None,\n",
       "    'rcsb_pubmed_doi': '10.1016/0022-2836(90)90271-M'},\n",
       "   'rcsb_id': '6GPB',\n",
       "   'struct': {'title': 'REFINED CRYSTAL STRUCTURE OF THE PHOSPHORYLASE-HEPTULOSE 2-PHOSPHATE-OLIGOSACCHARIDE-AMP COMPLEX',\n",
       "    'pdbx_descriptor': None}},\n",
       "  {'pubmed': {'rcsb_pubmed_abstract_text': 'The binding of T-state- and R-state-stabilizing ligands to the catalytic C site of T-state glycogen phosphorylase b has been investigated by crystallographic methods to study the interactions made and the conformational changes that occur at the C site. The compounds studied were alpha-D-glucose, 1, a T-state-stabilizing inhibitor of the enzyme, and the R-state-stabilizing phosphorylated ligands alpha-D-glucose 1-phosphate (2), 2-deoxy-2-fluoro-alpha-D-glucose 1-phosphate (3), and alpha-D-glucose 1-methylenephosphonate (4). The complexes have been refined, giving crystallographic R factors of less than 19%, for data between 8 and 2.3 A. Analysis of the refined structures shows that the glucosyl portions of the phosphorylated ligands bind in the same orientation as glucose and retain most of the interactions formed between glucose and the enzyme. However, the phosphates of the phosphorylated ligands adopt different conformations in each case; the stability of these conformations have been studied by using computational methods to rationalize the different binding modes. Binding of the phosphorylated ligands is accompanied by movement of C-site residues, most notably a shift of a loop out of the C site and toward the exterior of the protein. The C-site alterations do not include movement of Arg569, which has been observed in both the refined complex with 1-deoxy-D-gluco-heptulose 2-phosphate (5) [Johnson, L. N., et al (1990) J. Mol. Biol. 211, 645-661] and in the R-state enzyme [Barford, D. & Johnson, L. N. (1989) Nature 340, 609-616]. Refinement of the ligand complexes has also led to the observation of additional electron density for residues 10-19 at the N-terminus which had not previously been localized in the native structure. The conformation of this stretch of residues is different from that observed in glycogen phosphorylase a.',\n",
       "    'rcsb_pubmed_central_id': None,\n",
       "    'rcsb_pubmed_doi': '10.1021/bi00500a005'},\n",
       "   'rcsb_id': '5GPB',\n",
       "   'struct': {'title': 'COMPARISON OF THE BINDING OF GLUCOSE AND GLUCOSE-1-PHOSPHATE DERIVATIVES TO T-STATE GLYCOGEN PHOSPHORYLASE B',\n",
       "    'pdbx_descriptor': None}},\n",
       "  {'pubmed': {'rcsb_pubmed_abstract_text': \"The crystal structures of activated R state glycogen phosphorylase a (GPa) and R and T state glycogen phosphorylase b (GPb) complexed with AMP have been solved at 2.9 A, 2.9 A and 2.2 A resolution, respectively. The structure of R state GPa is nearly identical to the structure of sulphate-activated R state GPb, except in the region of Ser14, where there is a covalently attached phosphate group in GPa and a non-covalently attached sulphate group in GPb. The contacts made by the N-terminal tail residues in R state GPa at the subunit interface of the functionally active dimer are similar to those observed previously for T state GPa. The quaternary and tertiary structural changes on the T to R transition allow these interactions to be relayed to the catalytic site in R state GPa. The transition from the T state GPb structure to the R state GPa structure results in a change in the N-terminal residues from a poorly ordered extended structure that makes intrasubunit contacts to an ordered coiled conformation that makes intersubunit contacts. The distance between Arg10, the first residue to be located from the N terminus, in R state GPa and T state GPb is 50 A. One of the important subunit-subunit interactions in the dimer molecule involves contacts between the helix alpha 2 and the cap' (residues 35' to 45' that form a loop between the 1st and 2nd alpha helices, alpha 1' and alpha 2' of the other subunit. The prime denotes residues from the other subunit). The interactions made by the N-terminal residues induce structural changes at the cap'/alpha 2 helix interface that lead to the creation of a high-affinity AMP site. The tertiary structural changes at the cap (shifts 1.2 to 2.1 A for residues 35 to 45) are partially compensated by the quaternary structural change so that the overall shifts in these residues after the combined tertiary and quaternary changes are between 0.5 and 1.3 A. AMP binds to R state GPb with at least 100-fold greater affinity and exhibits four additional hydrogen bonds, stronger ionic interactions and more extensive van der Waals' interactions with 116 A2 greater solvent accessible surface area buried compared with AMP bound to T state GPb.(ABSTRACT TRUNCATED AT 400 WORDS)\",\n",
       "    'rcsb_pubmed_central_id': None,\n",
       "    'rcsb_pubmed_doi': '10.1016/0022-2836(91)90887-c'},\n",
       "   'rcsb_id': '8GPB',\n",
       "   'struct': {'title': 'STRUCTURAL MECHANISM FOR GLYCOGEN PHOSPHORYLASE CONTROL BY PHOSPHORYLATION AND AMP',\n",
       "    'pdbx_descriptor': None}},\n",
       "  {'pubmed': {'rcsb_pubmed_abstract_text': \"The crystal structures of activated R state glycogen phosphorylase a (GPa) and R and T state glycogen phosphorylase b (GPb) complexed with AMP have been solved at 2.9 A, 2.9 A and 2.2 A resolution, respectively. The structure of R state GPa is nearly identical to the structure of sulphate-activated R state GPb, except in the region of Ser14, where there is a covalently attached phosphate group in GPa and a non-covalently attached sulphate group in GPb. The contacts made by the N-terminal tail residues in R state GPa at the subunit interface of the functionally active dimer are similar to those observed previously for T state GPa. The quaternary and tertiary structural changes on the T to R transition allow these interactions to be relayed to the catalytic site in R state GPa. The transition from the T state GPb structure to the R state GPa structure results in a change in the N-terminal residues from a poorly ordered extended structure that makes intrasubunit contacts to an ordered coiled conformation that makes intersubunit contacts. The distance between Arg10, the first residue to be located from the N terminus, in R state GPa and T state GPb is 50 A. One of the important subunit-subunit interactions in the dimer molecule involves contacts between the helix alpha 2 and the cap' (residues 35' to 45' that form a loop between the 1st and 2nd alpha helices, alpha 1' and alpha 2' of the other subunit. The prime denotes residues from the other subunit). The interactions made by the N-terminal residues induce structural changes at the cap'/alpha 2 helix interface that lead to the creation of a high-affinity AMP site. The tertiary structural changes at the cap (shifts 1.2 to 2.1 A for residues 35 to 45) are partially compensated by the quaternary structural change so that the overall shifts in these residues after the combined tertiary and quaternary changes are between 0.5 and 1.3 A. AMP binds to R state GPb with at least 100-fold greater affinity and exhibits four additional hydrogen bonds, stronger ionic interactions and more extensive van der Waals' interactions with 116 A2 greater solvent accessible surface area buried compared with AMP bound to T state GPb.(ABSTRACT TRUNCATED AT 400 WORDS)\",\n",
       "    'rcsb_pubmed_central_id': None,\n",
       "    'rcsb_pubmed_doi': '10.1016/0022-2836(91)90887-c'},\n",
       "   'rcsb_id': '7GPB',\n",
       "   'struct': {'title': 'STRUCTURAL MECHANISM FOR GLYCOGEN PHOSPHORYLASE CONTROL BY PHOSPHORYLATION AND AMP',\n",
       "    'pdbx_descriptor': None}}]}"
      ]
     },
     "execution_count": 82,
     "metadata": {},
     "output_type": "execute_result"
    }
   ],
   "source": [
    "response_json['data']"
   ]
  },
  {
   "cell_type": "markdown",
   "id": "cdfa05c4-6ea5-4eb7-8fdb-b2095ad84567",
   "metadata": {},
   "source": [
    "#### Extract relevant data from the response."
   ]
  },
  {
   "cell_type": "code",
   "execution_count": 72,
   "id": "53b302e7-ab29-4ac8-8e14-38f983b1c071",
   "metadata": {},
   "outputs": [],
   "source": [
    "pdb_entries = response_json[\"data\"][\"entries\"]"
   ]
  },
  {
   "cell_type": "markdown",
   "id": "fbc956db-4cf5-4e7f-8e7b-f4a0a55e7ce5",
   "metadata": {},
   "source": [
    "#### Print PDB ID, Title, Descriptor, and DOI in the requested format."
   ]
  },
  {
   "cell_type": "code",
   "execution_count": 73,
   "id": "5b292e14-04a9-4bee-a811-c71025840e3f",
   "metadata": {},
   "outputs": [
    {
     "name": "stdout",
     "output_type": "stream",
     "text": [
      "PDB ID: 6GPB\n",
      "Title: REFINED CRYSTAL STRUCTURE OF THE PHOSPHORYLASE-HEPTULOSE 2-PHOSPHATE-OLIGOSACCHARIDE-AMP COMPLEX\n",
      "Descriptor: None\n",
      "DOI: 10.1016/0022-2836(90)90271-M\n",
      "\n",
      "PDB ID: 5GPB\n",
      "Title: COMPARISON OF THE BINDING OF GLUCOSE AND GLUCOSE-1-PHOSPHATE DERIVATIVES TO T-STATE GLYCOGEN PHOSPHORYLASE B\n",
      "Descriptor: None\n",
      "DOI: 10.1021/bi00500a005\n",
      "\n",
      "PDB ID: 8GPB\n",
      "Title: STRUCTURAL MECHANISM FOR GLYCOGEN PHOSPHORYLASE CONTROL BY PHOSPHORYLATION AND AMP\n",
      "Descriptor: None\n",
      "DOI: 10.1016/0022-2836(91)90887-c\n",
      "\n",
      "PDB ID: 7GPB\n",
      "Title: STRUCTURAL MECHANISM FOR GLYCOGEN PHOSPHORYLASE CONTROL BY PHOSPHORYLATION AND AMP\n",
      "Descriptor: None\n",
      "DOI: 10.1016/0022-2836(91)90887-c\n",
      "\n"
     ]
    }
   ],
   "source": [
    "for entry in pdb_entries:\n",
    "    print(f\"PDB ID: {entry['rcsb_id']}\")\n",
    "    print(f\"Title: {entry['struct']['title']}\")\n",
    "    print(f\"Descriptor: {entry['struct']['pdbx_descriptor']}\")\n",
    "    print(f\"DOI: {entry['pubmed']['rcsb_pubmed_doi'] if entry['pubmed'] else 'N/A'}\\n\")"
   ]
  },
  {
   "cell_type": "markdown",
   "id": "a98eb6de-2d9f-4ace-a7c8-b65ea3340e68",
   "metadata": {},
   "source": [
    "#### Initialize Redis connection\n"
   ]
  },
  {
   "cell_type": "code",
   "execution_count": 95,
   "id": "0c05918f-e9f9-4972-a461-ce1d6d41ce11",
   "metadata": {},
   "outputs": [
    {
     "name": "stdout",
     "output_type": "stream",
     "text": [
      "Requirement already satisfied: redis in /opt/conda/lib/python3.11/site-packages (5.2.1)\n",
      "True\n"
     ]
    }
   ],
   "source": [
    "! pip install redis\n",
    "import redis\n",
    "red = redis.Redis(host=\"my_redis\")\n",
    "print(red.ping())"
   ]
  },
  {
   "cell_type": "markdown",
   "id": "eb67bea1-191e-43c9-9e42-96271b5e7847",
   "metadata": {},
   "source": [
    "#### Store retrieved data in Redis with appropriate key-value pairs"
   ]
  },
  {
   "cell_type": "code",
   "execution_count": 96,
   "id": "23e5dd45-c151-490e-a76a-971a8d3a73ba",
   "metadata": {},
   "outputs": [],
   "source": [
    "for entry in pdb_entries:\n",
    "    pdb_id = entry[\"rcsb_id\"]\n",
    "    \n",
    "    # Set the title (ensure it is converted to bytes)\n",
    "    red.set(f\"{pdb_id}:title\", entry[\"struct\"][\"title\"].encode())  \n",
    "    \n",
    "    # Check if descriptor exists and is not None before encoding and setting\n",
    "    descriptor = entry[\"struct\"].get(\"pdbx_descriptor\")\n",
    "    if descriptor is not None:\n",
    "        red.set(f\"{pdb_id}:descriptor\", descriptor.encode()) \n",
    "    \n",
    "    # Set the DOI (ensure it is in bytes)\n",
    "    red.set(f\"{pdb_id}:doi\", entry[\"pubmed\"][\"rcsb_pubmed_doi\"].encode())"
   ]
  },
  {
   "cell_type": "markdown",
   "id": "ee436b05-4dee-4d8b-92c4-e28d2a713841",
   "metadata": {},
   "source": [
    "#### Retrieve and print data for a specific entry (e.g., '8GPB') from Redis"
   ]
  },
  {
   "cell_type": "code",
   "execution_count": 93,
   "id": "432b344c-a0ed-4e5e-9099-83e44f792f38",
   "metadata": {},
   "outputs": [],
   "source": [
    "def get_properties(red, pdb_id):\n",
    "    print(f\"PDB ID: {pdb_id}\")\n",
    "    print(f\"Title: {red.get(f'{pdb_id}:title')}\")\n",
    "    print(f\"Descriptor: {red.get(f'{pdb_id}:descriptor')}\")\n",
    "    print(f\"DOI: {red.get(f'{pdb_id}:doi')}\\n\")"
   ]
  },
  {
   "cell_type": "markdown",
   "id": "d5675ee3-ec64-4c06-a297-9b91905c3822",
   "metadata": {},
   "source": [
    "#### Example retrieval for '8GPB'"
   ]
  },
  {
   "cell_type": "code",
   "execution_count": 97,
   "id": "bc819450-cbab-4907-92ca-8ef66caa8447",
   "metadata": {},
   "outputs": [
    {
     "name": "stdout",
     "output_type": "stream",
     "text": [
      "PDB ID: 8GPB\n",
      "Title: b'STRUCTURAL MECHANISM FOR GLYCOGEN PHOSPHORYLASE CONTROL BY PHOSPHORYLATION AND AMP'\n",
      "Descriptor: b'N/A'\n",
      "DOI: b'10.1016/0022-2836(91)90887-c'\n",
      "\n"
     ]
    }
   ],
   "source": [
    "get_properties(red, '8GPB')"
   ]
  },
  {
   "cell_type": "markdown",
   "id": "070818e3-a00b-4210-9812-f89ae8ce81d3",
   "metadata": {},
   "source": [
    "### Function to store properties in Redis dynamically"
   ]
  },
  {
   "cell_type": "code",
   "execution_count": 104,
   "id": "ac224c13-c738-4275-819f-0aa908ce0129",
   "metadata": {},
   "outputs": [],
   "source": [
    "def set_properties(red, p):\n",
    "    query = '''\n",
    "    {\n",
    "      entries(entry_ids: [\"'''+p+'''\"]) {\n",
    "        pubmed { rcsb_pubmed_doi }\n",
    "        rcsb_id\n",
    "        struct { title pdbx_descriptor }\n",
    "      }\n",
    "    }\n",
    "    '''\n",
    "    response = requests.get('https://data.rcsb.org/graphql?query=%s' % requests.utils.requote_uri(query))\n",
    "    entry = response.json()[\"data\"][\"entries\"][0]\n",
    "    \n",
    "    if entry:\n",
    "        red.set(f\"{p}:title\", entry[\"struct\"][\"title\"])\n",
    "    else:\n",
    "        red.set(f\"{p}:title\", \"N/A\")\n",
    "        \n",
    "        # Only set descriptor if it exists\n",
    "        if entry:\n",
    "            red.set(f\"{p}:descriptor\", entry[\"struct\"][\"pdbx_descriptor\"])\n",
    "        else:\n",
    "            red.set(f\"{p}:descriptor\", \"N/A\")\n",
    "\n",
    "        # Only set DOI if it exists\n",
    "        if entry:\n",
    "            red.set(f\"{p}:doi\", entry[\"pubmed\"][\"rcsb_pubmed_doi\"])\n",
    "        else:\n",
    "            red.set(f\"{p}:doi\", \"N/A\")"
   ]
  },
  {
   "cell_type": "markdown",
   "id": "f6d25cc7-ef40-4160-9385-2b07278d7ae1",
   "metadata": {},
   "source": [
    "#### Testing the functions"
   ]
  },
  {
   "cell_type": "code",
   "execution_count": 105,
   "id": "69f15647-a6f4-4d86-b274-df5990da6c2a",
   "metadata": {},
   "outputs": [
    {
     "name": "stdout",
     "output_type": "stream",
     "text": [
      "PDB ID: 7GPB\n",
      "Title: b'STRUCTURAL MECHANISM FOR GLYCOGEN PHOSPHORYLASE CONTROL BY PHOSPHORYLATION AND AMP'\n",
      "Descriptor: b'N/A'\n",
      "DOI: b'10.1016/0022-2836(91)90887-c'\n",
      "\n",
      "PDB ID: 4GYD\n",
      "Title: b'Nostoc sp Cytochrome c6'\n",
      "Descriptor: None\n",
      "DOI: None\n",
      "\n"
     ]
    }
   ],
   "source": [
    "set_properties(red, '7GPB')\n",
    "get_properties(red, '7GPB')\n",
    "\n",
    "set_properties(red, '4GYD')\n",
    "get_properties(red, '4GYD')"
   ]
  },
  {
   "cell_type": "code",
   "execution_count": null,
   "id": "a194b190-29a8-4e4b-a9bb-7208466892d6",
   "metadata": {},
   "outputs": [],
   "source": []
  }
 ],
 "metadata": {
  "kernelspec": {
   "display_name": "Python 3 (ipykernel)",
   "language": "python",
   "name": "python3"
  },
  "language_info": {
   "codemirror_mode": {
    "name": "ipython",
    "version": 3
   },
   "file_extension": ".py",
   "mimetype": "text/x-python",
   "name": "python",
   "nbconvert_exporter": "python",
   "pygments_lexer": "ipython3",
   "version": "3.11.6"
  }
 },
 "nbformat": 4,
 "nbformat_minor": 5
}
